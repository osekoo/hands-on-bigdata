{
  "nbformat": 4,
  "nbformat_minor": 0,
  "metadata": {
    "colab": {
      "provenance": []
    },
    "kernelspec": {
      "name": "python3",
      "display_name": "Python 3"
    },
    "language_info": {
      "name": "python"
    }
  },
  "cells": [
    {
      "cell_type": "markdown",
      "source": [
        "# **Lab Session: Algorithms and Programming with Spark RDDs using PySpark**  \n",
        "\n",
        "## Introduction\n",
        "This lab session introduces you to foundational concepts of distributed data processing using Spark's Resilient Distributed Datasets (RDDs). You'll leverage Python and the PySpark library within the Colab environment to build, execute, and analyze various Spark programs. The session covers:\n",
        "\n",
        "- **Setting up PySpark in Colab**: Learn to configure and initialize the SparkContext.\n",
        "- **Practical Exercises**:\n",
        "  1. **Word Count Problem**: Implement a Spark algorithm to analyze word frequencies in a text file.\n",
        "  2. **Data Aggregation**: Compute the average quantities from a sample dataset while minimizing shuffle operations.\n",
        "  3. **Join Operations**: Explore algorithms to perform equi-joins and right-outer joins on RDDs without the direct `join()` transformation.\n",
        "  4. **SQL Query Encoding in Spark**: Encode and test SQL-like queries using Python MapReduce transformations.\n",
        "\n",
        "Each exercise is designed to deepen your understanding of Spark's capabilities, RDD transformations, and actions. You'll also develop skills in optimizing performance and implementing complex operations.\n",
        "\n",
        "**Tools Required**:\n",
        "- **Python**: For Spark programming.\n",
        "- **Colab Notebook**: To run your Spark scripts.\n",
        "\n",
        "By the end of this session, you'll have hands-on experience in using Spark for solving real-world problems effectively."
      ],
      "metadata": {
        "id": "-BsbMQnibpts"
      }
    },
    {
      "cell_type": "markdown",
      "source": [
        "## **Exercise 1: Word Count Problem**\n",
        "**Objective**: Design and implement a Spark algorithm to compute word frequencies in a text file.\n",
        "\n",
        "1. **Setup**:  \n",
        "   - Ensure your Colab environment is ready with Spark installed. Run the following commands:"
      ],
      "metadata": {
        "id": "agGOOOPmb4Nw"
      }
    },
    {
      "cell_type": "code",
      "execution_count": 23,
      "metadata": {
        "colab": {
          "base_uri": "https://localhost:8080/"
        },
        "id": "-zXI3dk_bWXv",
        "outputId": "49d2eccd-d045-44b4-a585-47a0db1ae7e8"
      },
      "outputs": [
        {
          "output_type": "stream",
          "name": "stdout",
          "text": [
            "Requirement already satisfied: pyspark in /usr/local/lib/python3.11/dist-packages (3.5.4)\n",
            "Requirement already satisfied: py4j==0.10.9.7 in /usr/local/lib/python3.11/dist-packages (from pyspark) (0.10.9.7)\n"
          ]
        }
      ],
      "source": [
        "!pip install pyspark\n",
        "from pyspark import SparkConf, SparkContext\n",
        "sc = SparkContext.getOrCreate(SparkConf().setMaster(\"local[*]\"))\n"
      ]
    },
    {
      "cell_type": "markdown",
      "source": [
        "- Download or use an existing text file (e.g., `shake.txt`)."
      ],
      "metadata": {
        "id": "plWVlt2RcLrt"
      }
    },
    {
      "cell_type": "code",
      "source": [
        "!wget https://www.dropbox.com/s/7ae58iydjloajvt/shake.txt"
      ],
      "metadata": {
        "colab": {
          "base_uri": "https://localhost:8080/"
        },
        "id": "1viu72hmcMhD",
        "outputId": "85c4c10b-985a-4e18-b72f-65ad7b834efe"
      },
      "execution_count": 24,
      "outputs": [
        {
          "output_type": "stream",
          "name": "stdout",
          "text": [
            "--2025-01-20 11:42:10--  https://www.dropbox.com/s/7ae58iydjloajvt/shake.txt\n",
            "Resolving www.dropbox.com (www.dropbox.com)... 162.125.3.18, 2620:100:6031:18::a27d:5112\n",
            "Connecting to www.dropbox.com (www.dropbox.com)|162.125.3.18|:443... connected.\n",
            "HTTP request sent, awaiting response... 302 Found\n",
            "Location: https://www.dropbox.com/scl/fi/ao0ozilexrndwvfnce3kp/shake.txt?rlkey=udk3zb5n8ur7rj3xmqosgb7pz [following]\n",
            "--2025-01-20 11:42:10--  https://www.dropbox.com/scl/fi/ao0ozilexrndwvfnce3kp/shake.txt?rlkey=udk3zb5n8ur7rj3xmqosgb7pz\n",
            "Reusing existing connection to www.dropbox.com:443.\n",
            "HTTP request sent, awaiting response... 302 Found\n",
            "Location: https://ucf1b9ecad64485ab6e8c51e6820.dl.dropboxusercontent.com/cd/0/inline/CihlDaufHCQS5BvORBzA2Fppi7bhnvkDkAyRzTU1nV3ycKqeXDzH_4oYB0LMjUTmugt8dyHqJxjHq1BDpvEUz_Uhl5rnCKOkWWQl8OON05-R09YzazeqIQ_Wc_kdubRR2qo/file# [following]\n",
            "--2025-01-20 11:42:11--  https://ucf1b9ecad64485ab6e8c51e6820.dl.dropboxusercontent.com/cd/0/inline/CihlDaufHCQS5BvORBzA2Fppi7bhnvkDkAyRzTU1nV3ycKqeXDzH_4oYB0LMjUTmugt8dyHqJxjHq1BDpvEUz_Uhl5rnCKOkWWQl8OON05-R09YzazeqIQ_Wc_kdubRR2qo/file\n",
            "Resolving ucf1b9ecad64485ab6e8c51e6820.dl.dropboxusercontent.com (ucf1b9ecad64485ab6e8c51e6820.dl.dropboxusercontent.com)... 162.125.13.15, 2620:100:6057:15::a27d:d0f\n",
            "Connecting to ucf1b9ecad64485ab6e8c51e6820.dl.dropboxusercontent.com (ucf1b9ecad64485ab6e8c51e6820.dl.dropboxusercontent.com)|162.125.13.15|:443... connected.\n",
            "HTTP request sent, awaiting response... 200 OK\n",
            "Length: 5458233 (5.2M) [text/plain]\n",
            "Saving to: ‘shake.txt.1’\n",
            "\n",
            "shake.txt.1         100%[===================>]   5.21M  16.0MB/s    in 0.3s    \n",
            "\n",
            "2025-01-20 11:42:12 (16.0 MB/s) - ‘shake.txt.1’ saved [5458233/5458233]\n",
            "\n"
          ]
        }
      ]
    },
    {
      "cell_type": "markdown",
      "source": [
        "2. **Create the RDD**:\n",
        "   - Load the text file into an RDD:"
      ],
      "metadata": {
        "id": "wGZ7nJ7acSQw"
      }
    },
    {
      "cell_type": "code",
      "source": [
        "document = sc.textFile(\"shake.txt\")"
      ],
      "metadata": {
        "id": "tBUyA68McUWl"
      },
      "execution_count": 25,
      "outputs": []
    },
    {
      "cell_type": "markdown",
      "source": [
        "3. **Transform and Process**:\n",
        "   - Tokenize the lines into words:"
      ],
      "metadata": {
        "id": "Bade34VEcXDH"
      }
    },
    {
      "cell_type": "code",
      "source": [
        "words = None"
      ],
      "metadata": {
        "id": "2Io21o3Ccex5"
      },
      "execution_count": 26,
      "outputs": []
    },
    {
      "cell_type": "markdown",
      "source": [
        "- Map each word to a key-value pair:"
      ],
      "metadata": {
        "id": "jIJJ0Oleci0b"
      }
    },
    {
      "cell_type": "code",
      "source": [
        "word_pairs = None"
      ],
      "metadata": {
        "id": "TIaNeXZUclwN"
      },
      "execution_count": 27,
      "outputs": []
    },
    {
      "cell_type": "markdown",
      "source": [
        " - Reduce by key to count occurrences:"
      ],
      "metadata": {
        "id": "4-8ave5ocozd"
      }
    },
    {
      "cell_type": "code",
      "source": [
        "word_counts = None"
      ],
      "metadata": {
        "id": "XZ_0gZeTcqY6"
      },
      "execution_count": 28,
      "outputs": []
    },
    {
      "cell_type": "markdown",
      "source": [
        "4. **View Results**:\n",
        "   - Display the word counts:"
      ],
      "metadata": {
        "id": "ckMgpVbJcwGP"
      }
    },
    {
      "cell_type": "code",
      "source": [
        "print(word_counts.collect() if word_counts else 'Not computed yet')"
      ],
      "metadata": {
        "colab": {
          "base_uri": "https://localhost:8080/"
        },
        "id": "5XFvng7ocwkc",
        "outputId": "4e5dd943-7e03-4bd8-9cf3-26a050a9337b"
      },
      "execution_count": 29,
      "outputs": [
        {
          "output_type": "stream",
          "name": "stdout",
          "text": [
            "Not computed yet\n"
          ]
        }
      ]
    },
    {
      "cell_type": "markdown",
      "source": [
        "## **Exercise 2: Data Aggregation**\n",
        "**Objective**: Compute the average quantity of each pet from a dataset and analyze shuffle operations.\n",
        "\n",
        "1. **Setup**:  \n",
        "   - Create an RDD for the dataset. For example:"
      ],
      "metadata": {
        "id": "VB1qsLbrc34e"
      }
    },
    {
      "cell_type": "code",
      "source": [
        "data = [(\"dog\", 3), (\"cat\", 4), (\"dog\", 5), (\"cat\", 6)]\n",
        "pets = sc.parallelize(data)"
      ],
      "metadata": {
        "id": "l5iZiOJQc58g"
      },
      "execution_count": 30,
      "outputs": []
    },
    {
      "cell_type": "markdown",
      "source": [
        "2. **Aggregate Data**:\n",
        "   - Calculate the total quantity and count for each pet:"
      ],
      "metadata": {
        "id": "iGEMzba7c9pl"
      }
    },
    {
      "cell_type": "code",
      "source": [
        "totals = None"
      ],
      "metadata": {
        "id": "1h1wKI_5c_8w"
      },
      "execution_count": 31,
      "outputs": []
    },
    {
      "cell_type": "markdown",
      "source": [
        "- Compute the average:"
      ],
      "metadata": {
        "id": "tPJo07HbdCvn"
      }
    },
    {
      "cell_type": "code",
      "source": [
        "averages = None"
      ],
      "metadata": {
        "id": "EtxwC_vgdFBx"
      },
      "execution_count": 32,
      "outputs": []
    },
    {
      "cell_type": "markdown",
      "source": [
        "\n",
        "3. **Optimize Shuffle**:\n",
        "   - How to reduce shuffle operations?\n",
        "\n",
        "4. **View Results**:\n",
        "   - Print the averages:"
      ],
      "metadata": {
        "id": "86CIfKZ3dHsF"
      }
    },
    {
      "cell_type": "code",
      "source": [
        "print(averages.collect() if averages else 'Not computed yet')"
      ],
      "metadata": {
        "colab": {
          "base_uri": "https://localhost:8080/"
        },
        "id": "OqOx4DFKdRmo",
        "outputId": "b5a023ab-d442-4931-d145-3bd78efd4032"
      },
      "execution_count": 33,
      "outputs": [
        {
          "output_type": "stream",
          "name": "stdout",
          "text": [
            "Not computed yet\n"
          ]
        }
      ]
    },
    {
      "cell_type": "markdown",
      "source": [
        "\n",
        "## **Exercise 3: Join Operations**\n",
        "**Objective**: Perform equi-joins and right-outer joins without the `join()` transformation.\n",
        "\n",
        "1. **Setup**:  \n",
        "   - Use two RDDs representing key-value datasets:"
      ],
      "metadata": {
        "id": "M-L1Bp9GdWgn"
      }
    },
    {
      "cell_type": "code",
      "source": [
        "rdd1 = sc.parallelize([(\"A\", 1), (\"B\", 2), (\"C\", 3)])\n",
        "rdd2 = sc.parallelize([(\"A\", 4), (\"B\", 5), (\"D\", 6)])"
      ],
      "metadata": {
        "id": "Vu678v4idaGt"
      },
      "execution_count": 34,
      "outputs": []
    },
    {
      "cell_type": "markdown",
      "source": [
        "2. **Equi-Join Implementation**:\n",
        "   - Perform a cartesian product and filter:"
      ],
      "metadata": {
        "id": "o_BfijZudc4R"
      }
    },
    {
      "cell_type": "code",
      "source": [
        "equi_join = None"
      ],
      "metadata": {
        "id": "YKrseRrfdfK_"
      },
      "execution_count": 35,
      "outputs": []
    },
    {
      "cell_type": "markdown",
      "source": [
        "3. **Right-Outer Join**:\n",
        "   - Extend the equi-join logic to include keys exclusive to `rdd2`.\n",
        "\n",
        "4. **Discuss Results**:\n",
        "   - Compare performance with the standard `join()` transformation.\n"
      ],
      "metadata": {
        "id": "BGls7mtEdjng"
      }
    },
    {
      "cell_type": "markdown",
      "source": [
        "## **Exercise 4: Encoding SQL Queries in Spark**\n",
        "**Objective**: Encode SQL-like queries using Python MapReduce and test them.\n",
        "\n",
        "1. **Setup**:  \n",
        "   - Download the files:"
      ],
      "metadata": {
        "id": "gcooq_iTdpAQ"
      }
    },
    {
      "cell_type": "code",
      "source": [
        "!wget https://www.dropbox.com/s/tmt6u80mkrwfjkv/Customer.txt\n",
        "!wget https://www.dropbox.com/s/8n5cbmufqhzs4r3/Order.txt"
      ],
      "metadata": {
        "colab": {
          "base_uri": "https://localhost:8080/"
        },
        "id": "zv83qgFXdnhz",
        "outputId": "dcde2192-f481-489b-a7e0-2c6707da1403"
      },
      "execution_count": 36,
      "outputs": [
        {
          "output_type": "stream",
          "name": "stdout",
          "text": [
            "--2025-01-20 11:42:12--  https://www.dropbox.com/s/tmt6u80mkrwfjkv/Customer.txt\n",
            "Resolving www.dropbox.com (www.dropbox.com)... 162.125.2.18, 2620:100:6031:18::a27d:5112\n",
            "Connecting to www.dropbox.com (www.dropbox.com)|162.125.2.18|:443... connected.\n",
            "HTTP request sent, awaiting response... 302 Found\n",
            "Location: https://www.dropbox.com/scl/fi/xa82wow8dh9modao7msn4/Customer.txt?rlkey=rlbumsfpo0ctooaxcydyz6jbv [following]\n",
            "--2025-01-20 11:42:12--  https://www.dropbox.com/scl/fi/xa82wow8dh9modao7msn4/Customer.txt?rlkey=rlbumsfpo0ctooaxcydyz6jbv\n",
            "Reusing existing connection to www.dropbox.com:443.\n",
            "HTTP request sent, awaiting response... 302 Found\n",
            "Location: https://uc5e820409b2444d4139fa03fe11.dl.dropboxusercontent.com/cd/0/inline/Cih6O962G3zAkyhK96hCZ6eU_8PBYztVQPFJFU9iwzdAKIB-ZHTM8STjZth4G8ZOfOmWOma9gYoAmjeTPnxTbT7NXQOzxrvC1szVz-Cx8KSPK8vr4h_9mR_jstgG95xuER4/file# [following]\n",
            "--2025-01-20 11:42:13--  https://uc5e820409b2444d4139fa03fe11.dl.dropboxusercontent.com/cd/0/inline/Cih6O962G3zAkyhK96hCZ6eU_8PBYztVQPFJFU9iwzdAKIB-ZHTM8STjZth4G8ZOfOmWOma9gYoAmjeTPnxTbT7NXQOzxrvC1szVz-Cx8KSPK8vr4h_9mR_jstgG95xuER4/file\n",
            "Resolving uc5e820409b2444d4139fa03fe11.dl.dropboxusercontent.com (uc5e820409b2444d4139fa03fe11.dl.dropboxusercontent.com)... 162.125.71.15, 2620:100:6057:15::a27d:d0f\n",
            "Connecting to uc5e820409b2444d4139fa03fe11.dl.dropboxusercontent.com (uc5e820409b2444d4139fa03fe11.dl.dropboxusercontent.com)|162.125.71.15|:443... connected.\n",
            "HTTP request sent, awaiting response... 200 OK\n",
            "Length: 5186 (5.1K) [text/plain]\n",
            "Saving to: ‘Customer.txt.1’\n",
            "\n",
            "Customer.txt.1      100%[===================>]   5.06K  --.-KB/s    in 0s      \n",
            "\n",
            "2025-01-20 11:42:14 (1.66 GB/s) - ‘Customer.txt.1’ saved [5186/5186]\n",
            "\n",
            "--2025-01-20 11:42:14--  https://www.dropbox.com/s/8n5cbmufqhzs4r3/Order.txt\n",
            "Resolving www.dropbox.com (www.dropbox.com)... 162.125.2.18, 2620:100:6031:18::a27d:5112\n",
            "Connecting to www.dropbox.com (www.dropbox.com)|162.125.2.18|:443... connected.\n",
            "HTTP request sent, awaiting response... 302 Found\n",
            "Location: https://www.dropbox.com/scl/fi/jt11mrbae5z3gx514622q/Order.txt?rlkey=3zokvw1wpc8hmzxd6722j0jc9 [following]\n",
            "--2025-01-20 11:42:15--  https://www.dropbox.com/scl/fi/jt11mrbae5z3gx514622q/Order.txt?rlkey=3zokvw1wpc8hmzxd6722j0jc9\n",
            "Reusing existing connection to www.dropbox.com:443.\n",
            "HTTP request sent, awaiting response... 302 Found\n",
            "Location: https://ucd1a7b96a1f8456079fd95de2cc.dl.dropboxusercontent.com/cd/0/inline/CiirHGvUVuzxwjbgFfkoeJelVzV3euQqe9r7naIsux6y--6pUwnNXf_h7gjyWuSkIrnRHyMZC-czLI1oHzk6r2_RMGfIKzcKQ7qTMM8yjoYgu4uJKwn3lCWgGwUcnrzzqhM/file# [following]\n",
            "--2025-01-20 11:42:15--  https://ucd1a7b96a1f8456079fd95de2cc.dl.dropboxusercontent.com/cd/0/inline/CiirHGvUVuzxwjbgFfkoeJelVzV3euQqe9r7naIsux6y--6pUwnNXf_h7gjyWuSkIrnRHyMZC-czLI1oHzk6r2_RMGfIKzcKQ7qTMM8yjoYgu4uJKwn3lCWgGwUcnrzzqhM/file\n",
            "Resolving ucd1a7b96a1f8456079fd95de2cc.dl.dropboxusercontent.com (ucd1a7b96a1f8456079fd95de2cc.dl.dropboxusercontent.com)... 162.125.2.15, 2620:100:6057:15::a27d:d0f\n",
            "Connecting to ucd1a7b96a1f8456079fd95de2cc.dl.dropboxusercontent.com (ucd1a7b96a1f8456079fd95de2cc.dl.dropboxusercontent.com)|162.125.2.15|:443... connected.\n",
            "HTTP request sent, awaiting response... 200 OK\n",
            "Length: 3148 (3.1K) [text/plain]\n",
            "Saving to: ‘Order.txt.1’\n",
            "\n",
            "Order.txt.1         100%[===================>]   3.07K  --.-KB/s    in 0s      \n",
            "\n",
            "2025-01-20 11:42:15 (801 MB/s) - ‘Order.txt.1’ saved [3148/3148]\n",
            "\n"
          ]
        }
      ]
    },
    {
      "cell_type": "markdown",
      "source": [
        "- Load data into RDDs:"
      ],
      "metadata": {
        "id": "3qRNEVfpdurL"
      }
    },
    {
      "cell_type": "code",
      "source": [
        "customer_rdd = sc.textFile(\"Customer.txt\").map(lambda line: line.split(\",\"))\n",
        "order_rdd = sc.textFile(\"Order.txt\").map(lambda line: line.split(\",\"))"
      ],
      "metadata": {
        "id": "u0aIkwu-dwq8"
      },
      "execution_count": 37,
      "outputs": []
    },
    {
      "cell_type": "markdown",
      "source": [
        "2. **Query 1: Customers with Orders in July**:\n",
        "   - Filter customers by month:   \n",
        "   ``SELECT name FROM Customer WHERE month(startDate)=7``"
      ],
      "metadata": {
        "id": "B11KQDN4dzTc"
      }
    },
    {
      "cell_type": "code",
      "source": [
        "from datetime import datetime\n",
        "july_customers = None\n",
        "print(july_customers.collect() if july_customers else 'Not computed yet')"
      ],
      "metadata": {
        "colab": {
          "base_uri": "https://localhost:8080/"
        },
        "id": "xsAxQtkYd1YX",
        "outputId": "358f40e7-77cb-4225-9b13-f423b0bc69af"
      },
      "execution_count": 38,
      "outputs": [
        {
          "output_type": "stream",
          "name": "stdout",
          "text": [
            "Not computed yet\n"
          ]
        }
      ]
    },
    {
      "cell_type": "markdown",
      "source": [
        "3. **Query 2: Distinct Names**:\n",
        "   - Use `distinct()`:  \n",
        "   `SELECT DISTINCT name FROM Customer WHERE month(startDate)=7`"
      ],
      "metadata": {
        "id": "HBowT5poeOzz"
      }
    },
    {
      "cell_type": "code",
      "source": [
        "distinct_names = None\n",
        "print(distinct_names.collect() if distinct_names else 'Not computed yet')"
      ],
      "metadata": {
        "colab": {
          "base_uri": "https://localhost:8080/"
        },
        "id": "5ZguKPkQeSZ_",
        "outputId": "3c72cce4-8a39-4ce9-ef6e-b33b5efebf6a"
      },
      "execution_count": 39,
      "outputs": [
        {
          "output_type": "stream",
          "name": "stdout",
          "text": [
            "Not computed yet\n"
          ]
        }
      ]
    },
    {
      "cell_type": "markdown",
      "source": [
        "4. **Query 3: Aggregated Orders**:\n",
        "   - Perform grouping and aggregation:  \n",
        "`SELECT  O.cid, SUM(total), COUNT(DISTINCT total)  FROM Order O GROUP BY O.cid`"
      ],
      "metadata": {
        "id": "KWx1OdxUeWxA"
      }
    },
    {
      "cell_type": "code",
      "source": [
        "grouped_orders = None\n",
        "aggregated = None\n",
        "print(aggregated.collect() if aggregated else 'Not computed yet')"
      ],
      "metadata": {
        "colab": {
          "base_uri": "https://localhost:8080/"
        },
        "id": "zxCWGe02eYn7",
        "outputId": "e37d9d8a-477c-4161-d996-46abab69898e"
      },
      "execution_count": 40,
      "outputs": [
        {
          "output_type": "stream",
          "name": "stdout",
          "text": [
            "Not computed yet\n"
          ]
        }
      ]
    },
    {
      "cell_type": "markdown",
      "source": [
        "5. **Query 4: Join Customers and Orders**:\n",
        "   - Use a key-based join:  \n",
        "   `•\tSELECT C.cid, O.total FROM Customer C, Order O WHERE  C.cid=O.ci`"
      ],
      "metadata": {
        "id": "Gez-vAl4ecip"
      }
    },
    {
      "cell_type": "code",
      "source": [
        "join_result = None\n",
        "print(join_result.collect() if join_result else 'Not computed yet')"
      ],
      "metadata": {
        "colab": {
          "base_uri": "https://localhost:8080/"
        },
        "id": "4lbryxkvedNQ",
        "outputId": "5aeac972-6d12-449f-8c88-99f10cfd39a4"
      },
      "execution_count": 41,
      "outputs": [
        {
          "output_type": "stream",
          "name": "stdout",
          "text": [
            "Not computed yet\n"
          ]
        }
      ]
    }
  ]
}